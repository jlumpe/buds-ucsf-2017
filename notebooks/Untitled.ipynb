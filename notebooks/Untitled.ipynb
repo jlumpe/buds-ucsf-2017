{
 "cells": [
  {
   "cell_type": "code",
   "execution_count": 36,
   "metadata": {},
   "outputs": [],
   "source": [
    "import random\n",
    "import io\n",
    "\n",
    "from Bio.Seq import Seq\n",
    "from Bio import SeqIO\n",
    "\n",
    "import numpy as np"
   ]
  },
  {
   "cell_type": "code",
   "execution_count": 1,
   "metadata": {},
   "outputs": [],
   "source": [
    "from statsnerds.io import MultiSequenceReader"
   ]
  },
  {
   "cell_type": "code",
   "execution_count": 6,
   "metadata": {},
   "outputs": [],
   "source": [
    "def random_seq(minlength=100, maxlength=200):\n",
    "    \"\"\"Create a random sequence.\n",
    "\n",
    "    :rtype: Bio.Seq.Seq\n",
    "    \"\"\"\n",
    "    length = random.randint(minlength, maxlength)\n",
    "    seqstr = ''.join(random.choices('ATGC', k=length))\n",
    "    return Seq(seqstr)\n",
    "\n",
    "def record_eq(rec1, rec2):\n",
    "    \"\"\"Check that two sequence records are equal (sequence and ID).\"\"\"\n",
    "    return str(rec1.seq) == str(rec2.seq) and rec1.id == rec2.id\n",
    "\n",
    "def tuple_eq(tup1, tup2):\n",
    "    \"\"\"Check that two sequence record tuples are equal.\"\"\"\n",
    "    return len(tup1) == len(tup2) and \\\n",
    "        all(self.record_eq(t1, t2) for t1, t2 in zip(tup1, tup2))"
   ]
  },
  {
   "cell_type": "code",
   "execution_count": 7,
   "metadata": {},
   "outputs": [],
   "source": [
    "N_FILES = 3"
   ]
  },
  {
   "cell_type": "code",
   "execution_count": 49,
   "metadata": {},
   "outputs": [],
   "source": [
    "seq_tuples = []\n",
    "\n",
    "for i in range(10):\n",
    "    _records = []\n",
    "\n",
    "    for j in range(N_FILES):\n",
    "        seq = random_seq(50, 50)\n",
    "        id_ = 'test-{:02d}-{:02d}'.format(i, j)\n",
    "        quality = np.random.randint(40, size=len(seq))\n",
    "\n",
    "        _records.append(SeqIO.SeqRecord(seq, id=id_, letter_annotations={'phred_quality': quality}))\n",
    "\n",
    "    seq_tuples.append(tuple(_records))"
   ]
  },
  {
   "cell_type": "code",
   "execution_count": 50,
   "metadata": {},
   "outputs": [],
   "source": [
    "_files = []\n",
    "\n",
    "for records in zip(*seq_tuples):\n",
    "    file = io.StringIO()\n",
    "    SeqIO.write(records, file, 'fastq')\n",
    "    file.seek(0)\n",
    "    _files.append(file)\n",
    "\n",
    "reader = MultiSequenceReader(_files, 'fastq')"
   ]
  },
  {
   "cell_type": "code",
   "execution_count": 51,
   "metadata": {},
   "outputs": [],
   "source": [
    "contents = [f.getvalue() for f in reader.files]"
   ]
  },
  {
   "cell_type": "markdown",
   "metadata": {},
   "source": [
    "# ?"
   ]
  },
  {
   "cell_type": "code",
   "execution_count": 52,
   "metadata": {},
   "outputs": [
    {
     "data": {
      "text/plain": [
       "10"
      ]
     },
     "execution_count": 52,
     "metadata": {},
     "output_type": "execute_result"
    }
   ],
   "source": [
    "reader.seek(100)"
   ]
  },
  {
   "cell_type": "code",
   "execution_count": 55,
   "metadata": {},
   "outputs": [
    {
     "data": {
      "text/plain": [
       "array([[   0,    0,    0],\n",
       "       [ 172,  172,  172],\n",
       "       [ 310,  310,  310],\n",
       "       [ 448,  448,  448],\n",
       "       [ 586,  586,  586],\n",
       "       [ 724,  724,  724],\n",
       "       [ 862,  862,  862],\n",
       "       [1000, 1000, 1000],\n",
       "       [1138, 1138, 1138],\n",
       "       [1276, 1276, 1276],\n",
       "       [1380, 1380, 1380]])"
      ]
     },
     "execution_count": 55,
     "metadata": {},
     "output_type": "execute_result"
    }
   ],
   "source": [
    "np.asarray(reader._offsets)"
   ]
  },
  {
   "cell_type": "code",
   "execution_count": 56,
   "metadata": {},
   "outputs": [
    {
     "data": {
      "text/plain": [
       "array([[172, 172, 172],\n",
       "       [138, 138, 138],\n",
       "       [138, 138, 138],\n",
       "       [138, 138, 138],\n",
       "       [138, 138, 138],\n",
       "       [138, 138, 138],\n",
       "       [138, 138, 138],\n",
       "       [138, 138, 138],\n",
       "       [138, 138, 138],\n",
       "       [104, 104, 104]])"
      ]
     },
     "execution_count": 56,
     "metadata": {},
     "output_type": "execute_result"
    }
   ],
   "source": [
    "np.diff(_, axis=0)"
   ]
  },
  {
   "cell_type": "code",
   "execution_count": 57,
   "metadata": {},
   "outputs": [
    {
     "data": {
      "text/plain": [
       "SeqRecord(seq=Seq('CTTATCCGGGTCCTCGATAAGATTCTGTATTTTCTAACCATTAAACTCAA', Alphabet()), id='test-00-00', name='<unknown name>', description='<unknown description>', dbxrefs=[])"
      ]
     },
     "execution_count": 57,
     "metadata": {},
     "output_type": "execute_result"
    }
   ],
   "source": [
    "seq_tuples[0][0]"
   ]
  },
  {
   "cell_type": "code",
   "execution_count": 58,
   "metadata": {},
   "outputs": [
    {
     "data": {
      "text/plain": [
       "'@test-00-00 <unknown description>\\nCTTATCCGGGTCCTCGATAAGATTCTGTATTTTCTAACCATTAAACTCAA\\n+\\n0G30@,9C><8<+\\'5B%\\'!9G?.FC<\"@D%?#+4E/+%+5BC:;%(EC\"=\\n@test-01-00 <unknown description>\\n'"
      ]
     },
     "execution_count": 58,
     "metadata": {},
     "output_type": "execute_result"
    }
   ],
   "source": [
    "contents[0][:172]"
   ]
  },
  {
   "cell_type": "code",
   "execution_count": 45,
   "metadata": {},
   "outputs": [
    {
     "data": {
      "text/plain": [
       "'>test-00-00 <unknown description>\\nGTAACGATATTCGATTCACACAGCCGCAGGACATTCTCTTAGGTGGGCTT\\n'"
      ]
     },
     "execution_count": 45,
     "metadata": {},
     "output_type": "execute_result"
    }
   ],
   "source": [
    "contents[0][:85]"
   ]
  },
  {
   "cell_type": "code",
   "execution_count": null,
   "metadata": {},
   "outputs": [],
   "source": []
  },
  {
   "cell_type": "code",
   "execution_count": null,
   "metadata": {},
   "outputs": [],
   "source": []
  },
  {
   "cell_type": "code",
   "execution_count": 47,
   "metadata": {},
   "outputs": [
    {
     "data": {
      "text/plain": [
       "'/Users/student/anaconda/lib/python3.6/site-packages/Bio/SeqIO/__init__.py'"
      ]
     },
     "execution_count": 47,
     "metadata": {},
     "output_type": "execute_result"
    }
   ],
   "source": [
    "SeqIO.__file__"
   ]
  },
  {
   "cell_type": "code",
   "execution_count": null,
   "metadata": {},
   "outputs": [],
   "source": []
  }
 ],
 "metadata": {
  "kernelspec": {
   "display_name": "Python [conda root]",
   "language": "python",
   "name": "conda-root-py"
  },
  "language_info": {
   "codemirror_mode": {
    "name": "ipython",
    "version": 3
   },
   "file_extension": ".py",
   "mimetype": "text/x-python",
   "name": "python",
   "nbconvert_exporter": "python",
   "pygments_lexer": "ipython3",
   "version": "3.6.1"
  }
 },
 "nbformat": 4,
 "nbformat_minor": 2
}
