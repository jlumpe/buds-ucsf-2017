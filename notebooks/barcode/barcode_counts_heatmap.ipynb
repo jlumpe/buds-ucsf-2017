{
 "cells": [
  {
   "cell_type": "code",
   "execution_count": null,
   "metadata": {
    "collapsed": true
   },
   "outputs": [],
   "source": [
    "import numpy as np\n",
    "import matplotlib.pyplot as plt"
   ]
  },
  {
   "cell_type": "code",
   "execution_count": null,
   "metadata": {
    "collapsed": true
   },
   "outputs": [],
   "source": [
    "matplotlib inline"
   ]
  },
  {
   "cell_type": "markdown",
   "metadata": {},
   "source": [
    "# Load data"
   ]
  },
  {
   "cell_type": "code",
   "execution_count": null,
   "metadata": {
    "collapsed": true
   },
   "outputs": [],
   "source": [
    "import pickle"
   ]
  },
  {
   "cell_type": "code",
   "execution_count": null,
   "metadata": {
    "collapsed": true
   },
   "outputs": [],
   "source": [
    "mat = np.load('barcode_counts.npy')"
   ]
  },
  {
   "cell_type": "code",
   "execution_count": null,
   "metadata": {
    "collapsed": true
   },
   "outputs": [],
   "source": [
    "prot_len = mat.shape[0]"
   ]
  },
  {
   "cell_type": "code",
   "execution_count": null,
   "metadata": {
    "collapsed": true
   },
   "outputs": [],
   "source": [
    "with open('aas_ordered.pkl', 'rb') as fobj:\n",
    "    aas_ordered = pickle.load(fobj)"
   ]
  },
  {
   "cell_type": "code",
   "execution_count": null,
   "metadata": {
    "collapsed": true
   },
   "outputs": [],
   "source": [
    "# Single-character labels for all AAs (sub * for STOP)\n",
    "aa_labels = np.asarray(['*'] + aas_ordered[1:])"
   ]
  },
  {
   "cell_type": "code",
   "execution_count": null,
   "metadata": {
    "collapsed": true
   },
   "outputs": [],
   "source": [
    "with open('wt_seq.txt') as fobj:\n",
    "    wt_seq = fobj.read()"
   ]
  },
  {
   "cell_type": "code",
   "execution_count": null,
   "metadata": {
    "collapsed": true
   },
   "outputs": [],
   "source": [
    "wt_seq_stop = wt_seq + '*'"
   ]
  },
  {
   "cell_type": "markdown",
   "metadata": {},
   "source": [
    "# Heatmap"
   ]
  },
  {
   "cell_type": "code",
   "execution_count": null,
   "metadata": {
    "collapsed": true
   },
   "outputs": [],
   "source": [
    "# Color map to use - color entries under vmin white\n",
    "cmap = plt.cm.magma\n",
    "cmap.set_under('white')"
   ]
  },
  {
   "cell_type": "code",
   "execution_count": null,
   "metadata": {
    "collapsed": true
   },
   "outputs": [],
   "source": [
    "# Keyword args to imshow to display a matrix\n",
    "img_mat_args = dict(interpolation='nearest', origin='upper', aspect='equal')"
   ]
  },
  {
   "cell_type": "code",
   "execution_count": null,
   "metadata": {
    "collapsed": true
   },
   "outputs": [],
   "source": [
    "# Sort by most barcodes to least\n",
    "aa_count_sort = np.argsort(mat.sum(axis=0))[::-1]\n",
    "\n",
    "aa_labels_sort = aa_labels[aa_count_sort]\n",
    "mat_sort = mat[:, aa_count_sort]"
   ]
  },
  {
   "cell_type": "markdown",
   "metadata": {},
   "source": [
    "### Simple"
   ]
  },
  {
   "cell_type": "code",
   "execution_count": null,
   "metadata": {},
   "outputs": [],
   "source": [
    "fig = plt.figure(figsize=(16, 4.5))\n",
    "hm_ax = plt.gca()\n",
    "\n",
    "img = hm_ax.imshow(mat_sort.T, cmap=cmap, vmin=1, **img_mat_args)\n",
    "hm_ax.grid(b=False)\n",
    "\n",
    "# Heatmap Y axis\n",
    "hm_ax.set_ylabel('New AA')\n",
    "hm_ax.set_yticks(np.arange(21))\n",
    "hm_ax.set_yticklabels(aa_labels_sort)\n",
    "\n",
    "# Heatmap X axis\n",
    "hm_ax.set_xlabel('Residue')\n",
    "hm_ax.xaxis.tick_bottom()\n",
    "\n",
    "# Protein sequence in minor x ticks\n",
    "hm_ax.set_xticks(range(prot_len), minor=True)\n",
    "hm_ax.set_xticklabels(wt_seq + '*', minor=True)\n",
    "\n",
    "# Protein residue numbers in major x ticks\n",
    "# Automatic settings good, just move under minor labels\n",
    "hm_ax.tick_params(axis='x', which='major', pad=15)\n",
    "\n",
    "# No heatmap ticks\n",
    "hm_ax.tick_params(axis='both', which='both', bottom='off', left='off')\n",
    "\n",
    "\n",
    "# Color bar\n",
    "cbar = plt.colorbar(img, ax=hm_ax)\n",
    "\n",
    "plt.tight_layout()\n",
    "hm_ax.set_title('Barcode count by mutation')\n",
    "\n",
    "pass"
   ]
  },
  {
   "cell_type": "markdown",
   "metadata": {},
   "source": [
    "### Fuckin' Badass"
   ]
  },
  {
   "cell_type": "code",
   "execution_count": null,
   "metadata": {},
   "outputs": [],
   "source": [
    "# Create figure and grid\n",
    "fig = plt.figure(figsize=(16, 6))\n",
    "gs = plt.GridSpec(3, 3, width_ratios=[1, .1, .1], height_ratios=[.2, .2, 1])\n",
    "\n",
    "# Create subplots\n",
    "hm_ax = plt.subplot(gs[2, 0], aspect='equal')\n",
    "\n",
    "res_total_ax, res_zero_ax = [plt.subplot(gs[i, 0], sharex=hm_ax) for i in [0, 1]]\n",
    "aa_total_ax, aa_zero_ax = [plt.subplot(gs[2, i], sharey=hm_ax) for i in [1, 2]]\n",
    "\n",
    "# Plot heatmap\n",
    "img = hm_ax.imshow(mat_sort.T, cmap=cmap, vmin=1, **img_mat_args)\n",
    "hm_ax.grid(b=False)\n",
    "\n",
    "# Synonymous mutations\n",
    "from matplotlib.patches import Rectangle\n",
    "for i, aa in enumerate(wt_seq + '*'):\n",
    "    j = list(aa_labels_sort).index(aa)\n",
    "    hm_ax.add_artist(Rectangle((i - .5, j - .5), 1, 1, fill=False, edgecolor='#00FF0099', lw=2))\n",
    "\n",
    "# Heatmap Y axis\n",
    "hm_ax.set_ylabel('New AA')\n",
    "hm_ax.set_yticks(np.arange(21))\n",
    "hm_ax.set_yticklabels(aa_labels_sort)\n",
    "\n",
    "# Heatmap X axis\n",
    "hm_ax.set_xlabel('Residue')\n",
    "hm_ax.xaxis.tick_bottom()\n",
    "\n",
    "# Protein sequence in minor x ticks\n",
    "hm_ax.set_xticks(range(prot_len), minor=True)\n",
    "hm_ax.set_xticklabels(wt_seq + '*', minor=True)\n",
    "\n",
    "# Protein residue numbers in major x ticks\n",
    "# Automatic settings good, just move under minor labels\n",
    "hm_ax.tick_params(axis='x', which='major', pad=15)\n",
    "\n",
    "# No heatmap ticks\n",
    "hm_ax.tick_params(axis='both', which='both', bottom='off', left='off')\n",
    "\n",
    "# Plot residue barcode totals\n",
    "res_total_ax.plot(np.arange(1, prot_len - 1), np.sum(mat_sort[1:-1], axis=1))\n",
    "res_total_ax.set_ylabel('Residue\\ntotal')\n",
    "\n",
    "# Plot residue zero totals\n",
    "res_zero_ax.plot(np.arange(1, prot_len - 1), np.sum(mat_sort[1:-1] == 0, axis=1))\n",
    "res_zero_ax.set_ylabel('Residue\\nzero count')\n",
    "\n",
    "# Residue subplot axes\n",
    "for ax in [res_total_ax, res_zero_ax]:\n",
    "    ax.xaxis.set_visible(False)\n",
    "    ax.set_ylim(0, None)\n",
    "\n",
    "# Plot AA barcode totals\n",
    "aa_total_ax.barh(range(21), np.sum(mat_sort, axis=0))\n",
    "aa_total_ax.set_xlabel('AA total')\n",
    "\n",
    "# Plot AA zero totals\n",
    "aa_zero_ax.barh(range(21), np.sum(mat_sort == 0, axis=0))\n",
    "aa_zero_ax.set_xlabel('AA zero count')\n",
    "\n",
    "# AA subplot axes\n",
    "for ax in [aa_total_ax, aa_zero_ax]:\n",
    "    ax.yaxis.set_visible(False)\n",
    "    ax.set_xlim(0, None)\n",
    "\n",
    "# Fit subplots tightly to data\n",
    "plt.tight_layout(w_pad=.5, h_pad=.5)\n",
    "hm_ax.autoscale(tight=True)\n",
    "\n",
    "# Color bar\n",
    "cbar_ax = plt.subplot(gs[:2, 1:], aspect=.1)\n",
    "cbar = plt.colorbar(img, cax=cbar_ax, orientation='horizontal')\n",
    "cbar.set_label('Barcode count per mutation')\n",
    "\n",
    "pass"
   ]
  }
 ],
 "metadata": {
  "kernelspec": {
   "display_name": "Python [default]",
   "language": "python",
   "name": "python3"
  },
  "language_info": {
   "codemirror_mode": {
    "name": "ipython",
    "version": 3
   },
   "file_extension": ".py",
   "mimetype": "text/x-python",
   "name": "python",
   "nbconvert_exporter": "python",
   "pygments_lexer": "ipython3",
   "version": "3.6.1"
  }
 },
 "nbformat": 4,
 "nbformat_minor": 2
}
